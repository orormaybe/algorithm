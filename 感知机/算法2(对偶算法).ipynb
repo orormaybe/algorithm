{
 "cells": [
  {
   "cell_type": "code",
   "execution_count": 1,
   "metadata": {},
   "outputs": [],
   "source": [
    "import numpy as np"
   ]
  },
  {
   "cell_type": "code",
   "execution_count": 2,
   "metadata": {},
   "outputs": [],
   "source": [
    "#初始化\n",
    "x=np.array([[3,3],[4,3],[1,1]])\n",
    "y=np.array([1,1,-1])\n",
    "b=0\n",
    "a=np.array([0,0,0])"
   ]
  },
  {
   "cell_type": "code",
   "execution_count": 3,
   "metadata": {},
   "outputs": [],
   "source": [
    "#生成gram矩阵\n",
    "i=0\n",
    "j=0\n",
    "gram=np.zeros([3,3])\n",
    "for i in range(3):\n",
    "    for j in range(3):\n",
    "        gram[i][j]=x[i][0]*x[j][0]+x[i][1]*x[j][1]"
   ]
  },
  {
   "cell_type": "code",
   "execution_count": 4,
   "metadata": {},
   "outputs": [
    {
     "data": {
      "text/plain": [
       "array([[18., 21.,  6.],\n",
       "       [21., 25.,  7.],\n",
       "       [ 6.,  7.,  2.]])"
      ]
     },
     "execution_count": 4,
     "metadata": {},
     "output_type": "execute_result"
    }
   ],
   "source": [
    "gram"
   ]
  },
  {
   "cell_type": "code",
   "execution_count": 15,
   "metadata": {},
   "outputs": [
    {
     "name": "stdout",
     "output_type": "stream",
     "text": [
      "The Model Equation Is 1*x1+1*x2-3\n"
     ]
    }
   ],
   "source": [
    "#不使用gram矩阵\n",
    "k=0\n",
    "while k<3:\n",
    "    if(y[k]*((a[0]*y[0]*x[0]+a[1]*y[1]*x[1]+a[2]*y[2]*x[2]).dot(x[k].T)+b)<=0):\n",
    "        a[k]+=1\n",
    "        b+=y[k]\n",
    "        k=0\n",
    "    else:\n",
    "        k+=1\n",
    "print('The Model Equation Is '+str((a[0]*y[0]*x[0]+a[1]*y[1]*x[1]+a[2]*y[2]*x[2])[0])+'*x1+'+str((a[0]*y[0]*x[0]+a[1]*y[1]*x[1]+a[2]*y[2]*x[2])[0])+'*x2'+str(b))"
   ]
  },
  {
   "cell_type": "code",
   "execution_count": 16,
   "metadata": {},
   "outputs": [
    {
     "name": "stdout",
     "output_type": "stream",
     "text": [
      "The Model Equation Is 1*x1+1*x2-3\n"
     ]
    }
   ],
   "source": [
    "#使用gram矩阵\n",
    "k=0\n",
    "while k<3:\n",
    "    if(y[k]*((a[0]*y[0]*gram[0][k]+a[1]*y[1]*gram[1][k]+a[2]*y[2]*gram[2][k])+b)<=0):\n",
    "        a[k]+=1\n",
    "        b+=y[k]\n",
    "        k=0\n",
    "    else:\n",
    "        k+=1\n",
    "print('The Model Equation Is '+str((a[0]*y[0]*x[0]+a[1]*y[1]*x[1]+a[2]*y[2]*x[2])[0])+'*x1+'+str((a[0]*y[0]*x[0]+a[1]*y[1]*x[1]+a[2]*y[2]*x[2])[0])+'*x2'+str(b))"
   ]
  }
 ],
 "metadata": {
  "kernelspec": {
   "display_name": "Python 3",
   "language": "python",
   "name": "python3"
  },
  "language_info": {
   "codemirror_mode": {
    "name": "ipython",
    "version": 3
   },
   "file_extension": ".py",
   "mimetype": "text/x-python",
   "name": "python",
   "nbconvert_exporter": "python",
   "pygments_lexer": "ipython3",
   "version": "3.6.10"
  }
 },
 "nbformat": 4,
 "nbformat_minor": 4
}
