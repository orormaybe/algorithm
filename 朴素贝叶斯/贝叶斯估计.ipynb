{
 "cells": [
  {
   "cell_type": "code",
   "execution_count": 1,
   "metadata": {},
   "outputs": [],
   "source": [
    "import numpy as np"
   ]
  },
  {
   "cell_type": "code",
   "execution_count": 2,
   "metadata": {},
   "outputs": [],
   "source": [
    "X1=np.array([1,1,1,1,1,2,2,2,2,2,3,3,3,3,3])\n",
    "X2=np.array(['S','M','M','S','S','S','M','M','L','L','L','M','M','L','L'])\n",
    "y=np.array([-1,-1,1,1,-1,-1,-1,1,1,1,1,1,1,1,-1])"
   ]
  },
  {
   "cell_type": "code",
   "execution_count": 4,
   "metadata": {},
   "outputs": [],
   "source": [
    "PX1_1=np.zeros(3)\n",
    "PX2_1=np.zeros(3)\n",
    "PX1_n1=np.zeros(3)\n",
    "PX2_n1=np.zeros(3)\n",
    "Py=np.zeros(2)\n",
    "v=1"
   ]
  },
  {
   "cell_type": "code",
   "execution_count": 8,
   "metadata": {},
   "outputs": [
    {
     "name": "stdout",
     "output_type": "stream",
     "text": [
      "[-1  1]\n",
      "[0.41176471 0.58823529]\n"
     ]
    }
   ],
   "source": [
    "#计算P(y=-1)与P(y=1)\n",
    "print(np.unique(y))\n",
    "for i in range(len(np.unique(y))):\n",
    "    Py[i]=((y==np.unique(y)[i]).sum()+v)/(len(y)+2*v)\n",
    "print(Py)"
   ]
  },
  {
   "cell_type": "code",
   "execution_count": 9,
   "metadata": {},
   "outputs": [
    {
     "name": "stdout",
     "output_type": "stream",
     "text": [
      "[1 2 3]\n",
      "[0.25       0.33333333 0.41666667]\n"
     ]
    }
   ],
   "source": [
    "#计算P(x=1,2,3|y=1)\n",
    "print(np.unique(X1))\n",
    "for i in range(len(np.unique(X1))):\n",
    "    PX1_1[i]=((X1[y==1]==np.unique(X1)[i]).sum()+v)/((y==1).sum()+3*v)\n",
    "print(PX1_1)"
   ]
  },
  {
   "cell_type": "code",
   "execution_count": 12,
   "metadata": {},
   "outputs": [
    {
     "name": "stdout",
     "output_type": "stream",
     "text": [
      "['L' 'M' 'S']\n",
      "[0.41666667 0.41666667 0.16666667]\n"
     ]
    }
   ],
   "source": [
    "#计算P(x='S','M','L'|y=1)\n",
    "print(np.unique(X2))\n",
    "for i in range(len(np.unique(X1))):\n",
    "    PX2_1[i]=((X2[y==1]==np.unique(X2)[i]).sum()+v)/((y==1).sum()+3*v)\n",
    "print(PX2_1)"
   ]
  },
  {
   "cell_type": "code",
   "execution_count": 11,
   "metadata": {},
   "outputs": [
    {
     "name": "stdout",
     "output_type": "stream",
     "text": [
      "[1 2 3]\n",
      "[0.44444444 0.33333333 0.22222222]\n"
     ]
    }
   ],
   "source": [
    "#计算P(x=1,2,3|y=-1)\n",
    "print(np.unique(X1))\n",
    "for i in range(len(np.unique(X1))):\n",
    "    PX1_n1[i]=((X1[y==-1]==np.unique(X1)[i]).sum()+v)/((y==-1).sum()+3*v)\n",
    "print(PX1_n1)"
   ]
  },
  {
   "cell_type": "code",
   "execution_count": 10,
   "metadata": {},
   "outputs": [
    {
     "name": "stdout",
     "output_type": "stream",
     "text": [
      "['L' 'M' 'S']\n",
      "[0.22222222 0.33333333 0.44444444]\n"
     ]
    }
   ],
   "source": [
    "#计算P(x='S','M','L'|y=-1)\n",
    "print(np.unique(X2))\n",
    "for i in range(len(np.unique(X1))):\n",
    "    PX2_n1[i]=((X2[y==-1]==np.unique(X2)[i]).sum()+v)/((y==-1).sum()+3*v)\n",
    "print(PX2_n1)"
   ]
  },
  {
   "cell_type": "code",
   "execution_count": 13,
   "metadata": {},
   "outputs": [
    {
     "name": "stdout",
     "output_type": "stream",
     "text": [
      "The Possibility Of x is the class 1 is 0.0326797385620915\n",
      "The Possibility Of x is the class -1 is 0.06100217864923746\n",
      "Because the possibility of 1 less than the possibity of -1,so x is most possible of class -1\n"
     ]
    }
   ],
   "source": [
    "#预测x=[2,S]\n",
    "x=np.array([2,'S'])\n",
    "PXIs1=Py[1]*PX1_1[1]*PX2_1[2]\n",
    "PXIsn1=Py[0]*PX1_n1[1]*PX2_n1[2]\n",
    "print('The Possibility Of x is the class 1 is '+str(PXIs1))\n",
    "print('The Possibility Of x is the class -1 is '+str(PXIsn1))\n",
    "print('Because the possibility of 1 less than the possibity of -1,so x is most possible of class -1')"
   ]
  }
 ],
 "metadata": {
  "kernelspec": {
   "display_name": "Python 3",
   "language": "python",
   "name": "python3"
  },
  "language_info": {
   "codemirror_mode": {
    "name": "ipython",
    "version": 3
   },
   "file_extension": ".py",
   "mimetype": "text/x-python",
   "name": "python",
   "nbconvert_exporter": "python",
   "pygments_lexer": "ipython3",
   "version": "3.6.10"
  }
 },
 "nbformat": 4,
 "nbformat_minor": 4
}
